{
 "cells": [
  {
   "cell_type": "markdown",
   "metadata": {},
   "source": [
    "<center>\n",
    "    <img src=\"https://cf-courses-data.s3.us.cloud-object-storage.appdomain.cloud/IBMDeveloperSkillsNetwork-DS0105EN-SkillsNetwork/labs/Module2/images/SN_web_lightmode.png\" width=\"300\" alt=\"cognitiveclass.ai logo\">\n",
    "</center>\n"
   ]
  },
  {
   "cell_type": "markdown",
   "metadata": {},
   "source": [
    "#### Add your code below following the instructions given in the course\n"
   ]
  },
  {
   "cell_type": "markdown",
   "metadata": {
    "tags": []
   },
   "source": [
    "# My Jupyter Notebook on IBM Watson Studio"
   ]
  },
  {
   "cell_type": "markdown",
   "metadata": {
    "tags": []
   },
   "source": [
    "**My name**\n",
    "Data analyst"
   ]
  },
  {
   "cell_type": "markdown",
   "metadata": {},
   "source": [
    "*I am interested in data science because i want to learn more methods to improve my knowledge in data...*"
   ]
  },
  {
   "cell_type": "markdown",
   "metadata": {},
   "source": [
    "### I am going to do a simple calculation"
   ]
  },
  {
   "cell_type": "code",
   "execution_count": 5,
   "metadata": {},
   "outputs": [
    {
     "data": {
      "text/plain": [
       "25"
      ]
     },
     "execution_count": 5,
     "metadata": {},
     "output_type": "execute_result"
    }
   ],
   "source": [
    "20+5"
   ]
  },
  {
   "cell_type": "markdown",
   "metadata": {},
   "source": [
    "**horizontal line**\n",
    "\n",
    "***\n",
    "\n",
    "**image**\n",
    "\n",
    "<img src=\"https://cdn.futura-sciences.com/sources/images/data_science_1.jpg\" heigh=\"500\" width=\"500\" />\n",
    "\n",
    "**Bullet list**\n",
    "\n",
    "- Bullet 1\n",
    "     - Sub bullet 1.1\n",
    "     - Sub bullet 1.2\n",
    "- Bullet 2\n",
    "     - Sub bullet 2.1\n",
    "     - Sub bullet 2.2\n",
    "     \n",
    "**Numbered list**\n",
    "\n",
    "1. list 1\n",
    "     1. Sub bullet 1.1\n",
    "     1. Sub bullet 1.2\n",
    "   \n",
    "2. list 2\n",
    "     2. Sub bullet 2.1\n",
    "     2. Sub bullet 2.2\n",
    "     \n",
    "**Tables**\n",
    "\n",
    "|raw_num | Col_1  | Col_2    | Col_3   | Col_4   |\n",
    "|---:|:-------------|:-----------|:------|:------|\n",
    "| 1 | id_1  | Val_1 | Val_2  |   Val_3 | val_4 |\n",
    "| 2 | id_2  | Val_1 | Val_2  |   Val_3 | val_4 |\n",
    "\n",
    "**Hyperlinks**\n",
    "<a href=\"https://www.ibm.com/fr-fr\">IBM french site</a>\n",
    "\n",
    "\n",
    "**code/syntax highlighting**\n",
    "\n",
    "<div class=\"alert alert-block alert-info\"> highlighting in blue </div>\n",
    "\n",
    "**blocked quote**\n",
    "<blockquote>Testing blocked quote</blockquote>"
   ]
  },
  {
   "cell_type": "markdown",
   "metadata": {},
   "source": [
    "<div class=\"alert alert-block alert-info\">\n",
    "<b>Tip:</b> Use blue boxes (alert-info) for tips and notes. \n",
    "If it’s a note, you don’t have to include the word “Note”.\n",
    "</div>"
   ]
  },
  {
   "cell_type": "code",
   "execution_count": null,
   "metadata": {},
   "outputs": [],
   "source": []
  }
 ],
 "metadata": {
  "kernelspec": {
   "display_name": "Python",
   "language": "python",
   "name": "conda-env-python-py"
  },
  "language_info": {
   "codemirror_mode": {
    "name": "ipython",
    "version": 3
   },
   "file_extension": ".py",
   "mimetype": "text/x-python",
   "name": "python",
   "nbconvert_exporter": "python",
   "pygments_lexer": "ipython3",
   "version": "3.7.12"
  }
 },
 "nbformat": 4,
 "nbformat_minor": 4
}
